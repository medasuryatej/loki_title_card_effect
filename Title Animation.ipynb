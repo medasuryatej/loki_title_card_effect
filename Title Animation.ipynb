{
 "cells": [
  {
   "cell_type": "code",
   "execution_count": 114,
   "id": "130f5b96",
   "metadata": {},
   "outputs": [],
   "source": [
    "from PIL import Image, ImageDraw"
   ]
  },
  {
   "cell_type": "code",
   "execution_count": 115,
   "id": "d6842ffc",
   "metadata": {},
   "outputs": [],
   "source": [
    "images = []\n",
    "\n",
    "width = 300\n",
    "center = width // 2\n",
    "color_1 = (0, 0, 0)\n",
    "color_2 = (255, 255, 255)\n",
    "max_radius = int(center * 1.5)\n",
    "step = 8"
   ]
  },
  {
   "cell_type": "code",
   "execution_count": 116,
   "id": "2f6060dc",
   "metadata": {},
   "outputs": [
    {
     "name": "stdout",
     "output_type": "stream",
     "text": [
      "225 150\n"
     ]
    }
   ],
   "source": [
    "print(max_radius, center)"
   ]
  },
  {
   "cell_type": "code",
   "execution_count": 117,
   "id": "5775f5d5",
   "metadata": {},
   "outputs": [],
   "source": [
    "for i in range(0, max_radius, step):\n",
    "    im = Image.new('RGB', (width, width), color_1)\n",
    "    draw = ImageDraw.Draw(im)\n",
    "    draw.ellipse((center - i, center - i, center + i, center + i), fill=color_2)\n",
    "    images.append(im)"
   ]
  },
  {
   "cell_type": "code",
   "execution_count": 118,
   "id": "12bc3304",
   "metadata": {},
   "outputs": [
    {
     "data": {
      "text/plain": [
       "29"
      ]
     },
     "execution_count": 118,
     "metadata": {},
     "output_type": "execute_result"
    }
   ],
   "source": [
    "len(images)"
   ]
  },
  {
   "cell_type": "code",
   "execution_count": 119,
   "id": "7b552454",
   "metadata": {},
   "outputs": [],
   "source": [
    "images[0].save(r'D:\\gitpulls\\sfcdl-sales-dm\\data\\dst\\pillow_imagedraw.gif',\n",
    "               save_all=True, append_images=images[1:], optimize=False, duration=40, loop=0)"
   ]
  },
  {
   "cell_type": "code",
   "execution_count": 120,
   "id": "3c25d450",
   "metadata": {},
   "outputs": [],
   "source": [
    "from matplotlib.pyplot import imshow"
   ]
  },
  {
   "cell_type": "code",
   "execution_count": 121,
   "id": "f8731a88",
   "metadata": {},
   "outputs": [],
   "source": [
    "import numpy as np"
   ]
  },
  {
   "cell_type": "code",
   "execution_count": 122,
   "id": "8f731960",
   "metadata": {},
   "outputs": [],
   "source": [
    "import matplotlib.pyplot as plt"
   ]
  },
  {
   "cell_type": "code",
   "execution_count": 123,
   "id": "74e8c1e9",
   "metadata": {},
   "outputs": [
    {
     "data": {
      "text/plain": [
       "<matplotlib.image.AxesImage at 0x13dd3c2b4f0>"
      ]
     },
     "execution_count": 123,
     "metadata": {},
     "output_type": "execute_result"
    },
    {
     "data": {
      "image/png": "[encoded data removed]",
      "text/plain": [
       "<Figure size 432x288 with 4 Axes>"
      ]
     },
     "metadata": {
      "needs_background": "light"
     },
     "output_type": "display_data"
    }
   ],
   "source": [
    "f, axarr = plt.subplots(2,2)\n",
    "axarr[0,0].imshow(images[0])\n",
    "axarr[0,1].imshow(images[1])\n",
    "axarr[1,0].imshow(images[2])\n",
    "axarr[1,1].imshow(images[3])"
   ]
  },
  {
   "cell_type": "code",
   "execution_count": 124,
   "id": "87f21028",
   "metadata": {},
   "outputs": [],
   "source": [
    "from PIL import ImageFont"
   ]
  },
  {
   "cell_type": "code",
   "execution_count": 125,
   "id": "56212756",
   "metadata": {},
   "outputs": [],
   "source": [
    "# black background\n",
    "im = Image.new('RGB', (width, width), color_1)\n",
    "fnt = ImageFont.truetype('arial.ttf', 15)\n",
    "draw = ImageDraw.Draw(im)\n",
    "draw.text((center, center), \"S\", font=fnt, fill=color_2)"
   ]
  },
  {
   "cell_type": "code",
   "execution_count": 126,
   "id": "e8669b4e",
   "metadata": {},
   "outputs": [],
   "source": [
    "draw.text((center + 45, center), \"U\", font=fnt, fill=color_2)"
   ]
  },
  {
   "cell_type": "code",
   "execution_count": 127,
   "id": "1f47f99e",
   "metadata": {},
   "outputs": [],
   "source": [
    "fnt = ImageFont.truetype('calibri.ttf', 15)"
   ]
  },
  {
   "cell_type": "code",
   "execution_count": 128,
   "id": "64aa9f97",
   "metadata": {},
   "outputs": [
    {
     "data": {
      "text/plain": [
       "<matplotlib.image.AxesImage at 0x13dd3cb2190>"
      ]
     },
     "execution_count": 128,
     "metadata": {},
     "output_type": "execute_result"
    },
    {
     "data": {
      "image/png": "[encoded data removed]",
      "text/plain": [
       "<Figure size 432x288 with 1 Axes>"
      ]
     },
     "metadata": {
      "needs_background": "light"
     },
     "output_type": "display_data"
    }
   ],
   "source": [
    "imshow(im)"
   ]
  },
  {
   "cell_type": "code",
   "execution_count": 129,
   "id": "63a5bc25",
   "metadata": {},
   "outputs": [],
   "source": [
    "# font list\n",
    "font_list = []\n",
    "\n",
    "with open(r\"D:\\gitpulls\\sfcdl-sales-dm\\data\\dst\\fonts.txt\") as txtfile:\n",
    "    for line in txtfile.readlines():\n",
    "        font_list.append(line.strip(\"\\n\"))"
   ]
  },
  {
   "cell_type": "code",
   "execution_count": 130,
   "id": "6ab70274",
   "metadata": {},
   "outputs": [
    {
     "data": {
      "text/plain": [
       "126"
      ]
     },
     "execution_count": 130,
     "metadata": {},
     "output_type": "execute_result"
    }
   ],
   "source": [
    "len(font_list)"
   ]
  },
  {
   "cell_type": "code",
   "execution_count": 131,
   "id": "276ce81a",
   "metadata": {},
   "outputs": [
    {
     "data": {
      "text/plain": [
       "['Ariali.ttf', 'Arialbd.ttf', 'Arialbi.ttf', 'Ariblk.ttf']"
      ]
     },
     "execution_count": 131,
     "metadata": {},
     "output_type": "execute_result"
    }
   ],
   "source": [
    "font_list[1:5]"
   ]
  },
  {
   "cell_type": "code",
   "execution_count": 132,
   "id": "d671acfb",
   "metadata": {},
   "outputs": [
    {
     "data": {
      "text/plain": [
       "95"
      ]
     },
     "execution_count": 132,
     "metadata": {},
     "output_type": "execute_result"
    }
   ],
   "source": [
    "import random\n",
    "random.randint(1, len(font_list))"
   ]
  },
  {
   "cell_type": "code",
   "execution_count": 133,
   "id": "7b04647e",
   "metadata": {},
   "outputs": [
    {
     "data": {
      "text/plain": [
       "'K'"
      ]
     },
     "execution_count": 133,
     "metadata": {},
     "output_type": "execute_result"
    }
   ],
   "source": [
    "import string\n",
    "string.ascii_letters\n",
    "random.choice(string.ascii_letters)"
   ]
  },
  {
   "cell_type": "code",
   "execution_count": 134,
   "id": "7c31885f",
   "metadata": {},
   "outputs": [],
   "source": [
    "def generate_image():\n",
    "    im = Image.new('RGB', (width, width), color_1)\n",
    "    fnt = ImageFont.truetype(good_fonts[random.randint(1, len(good_fonts)-1)], 30)\n",
    "    draw = ImageDraw.Draw(im)\n",
    "    draw.text((center, center), random.choice(string.ascii_letters).upper(), font=fnt, fill=color_2)\n",
    "    return im"
   ]
  },
  {
   "cell_type": "code",
   "execution_count": 147,
   "id": "b6c5a57a",
   "metadata": {},
   "outputs": [],
   "source": [
    "good_fonts = []\n",
    "error_fonts = []\n",
    "\n",
    "for font in font_list:\n",
    "    font = font.lower()\n",
    "    try:\n",
    "        fnt = ImageFont.truetype(font, 10)\n",
    "        good_fonts.append(font)\n",
    "    except:\n",
    "        error_fonts.append(font)\n",
    "        continue"
   ]
  },
  {
   "cell_type": "code",
   "execution_count": 148,
   "id": "cb4f1824",
   "metadata": {},
   "outputs": [
    {
     "data": {
      "text/plain": [
       "112"
      ]
     },
     "execution_count": 148,
     "metadata": {},
     "output_type": "execute_result"
    }
   ],
   "source": [
    "len(good_fonts)"
   ]
  },
  {
   "cell_type": "code",
   "execution_count": 149,
   "id": "e24e15b7",
   "metadata": {},
   "outputs": [
    {
     "data": {
      "text/plain": [
       "14"
      ]
     },
     "execution_count": 149,
     "metadata": {},
     "output_type": "execute_result"
    }
   ],
   "source": [
    "len(error_fonts)"
   ]
  },
  {
   "cell_type": "code",
   "execution_count": 138,
   "id": "2235cf5b",
   "metadata": {},
   "outputs": [
    {
     "data": {
      "text/plain": [
       "<matplotlib.image.AxesImage at 0x13dd3d1a0d0>"
      ]
     },
     "execution_count": 138,
     "metadata": {},
     "output_type": "execute_result"
    },
    {
     "data": {
      "image/png": "[encoded data removed]",
      "text/plain": [
       "<Figure size 432x288 with 1 Axes>"
      ]
     },
     "metadata": {
      "needs_background": "light"
     },
     "output_type": "display_data"
    }
   ],
   "source": [
    "imshow(generate_image())"
   ]
  },
  {
   "cell_type": "code",
   "execution_count": 139,
   "id": "bda1300e",
   "metadata": {},
   "outputs": [],
   "source": [
    "def generate_im():\n",
    "    im = Image.new('RGB', (width, width), color_1)\n",
    "    fnt = ImageFont.truetype(good_fonts[random.randint(1, len(good_fonts)-1)], 30)\n",
    "    draw = ImageDraw.Draw(im)\n",
    "    draw.text((center, center), \"S\", font=fnt, fill=color_2)\n",
    "    return im"
   ]
  },
  {
   "cell_type": "code",
   "execution_count": 140,
   "id": "337128ed",
   "metadata": {},
   "outputs": [
    {
     "data": {
      "text/plain": [
       "<matplotlib.image.AxesImage at 0x13dd3e23fa0>"
      ]
     },
     "execution_count": 140,
     "metadata": {},
     "output_type": "execute_result"
    },
    {
     "data": {
      "image/png": "[encoded data removed]",
      "text/plain": [
       "<Figure size 432x288 with 4 Axes>"
      ]
     },
     "metadata": {
      "needs_background": "light"
     },
     "output_type": "display_data"
    }
   ],
   "source": [
    "f, axarr = plt.subplots(2,2)\n",
    "axarr[0,0].imshow(generate_im())\n",
    "axarr[0,1].imshow(generate_im())\n",
    "axarr[1,0].imshow(generate_im())\n",
    "axarr[1,1].imshow(generate_im())"
   ]
  },
  {
   "cell_type": "code",
   "execution_count": 161,
   "id": "32d732cc",
   "metadata": {},
   "outputs": [],
   "source": [
    "def generate_im(name):\n",
    "    # string validation\n",
    "    if name.strip() == \"\" or name is None:\n",
    "        print(\"Invalid Name, try again\")\n",
    "        return None\n",
    "    # list of chars in name\n",
    "    chars = list(name.strip())\n",
    "    # background canvas\n",
    "    im = Image.new('RGB', (width, width), color_1) # black color\n",
    "    # generate the image\n",
    "    draw = ImageDraw.Draw(im)\n",
    "    for index, letter in enumerate(chars):\n",
    "        # random integer\n",
    "        rand_int = random.randint(0, len(good_fonts)-1)\n",
    "        # selecting font style\n",
    "        fnt = ImageFont.truetype(good_fonts[rand_int], random.randint(30, 60))\n",
    "        # insert the char\n",
    "        draw.text((center - 120 + (30 * index), center), letter.upper() if rand_int % 2 == 0 else letter.lower() , font=fnt, fill=color_2)\n",
    "    # add gaussian blur to image\n",
    "    if random.randint(0,100) in [4,5,7,12,45,34,67,23,15,77,8,49,66, 25, 64, 29, 49, 44, 83, 93, 99, 63]:\n",
    "        im = im.filter(ImageFilter.GaussianBlur(1))\n",
    "    return im"
   ]
  },
  {
   "cell_type": "code",
   "execution_count": 155,
   "id": "844df4d3",
   "metadata": {},
   "outputs": [
    {
     "data": {
      "text/plain": [
       "<matplotlib.image.AxesImage at 0x13dd3f8f9d0>"
      ]
     },
     "execution_count": 155,
     "metadata": {},
     "output_type": "execute_result"
    },
    {
     "data": {
      "image/png": "[encoded data removed]",
      "text/plain": [
       "<Figure size 432x288 with 1 Axes>"
      ]
     },
     "metadata": {
      "needs_background": "light"
     },
     "output_type": "display_data"
    }
   ],
   "source": [
    "im = generate_im(\"surya\")\n",
    "from PIL import Image, ImageFilter\n",
    "imshow(im)"
   ]
  },
  {
   "cell_type": "code",
   "execution_count": 158,
   "id": "acb2e3b6",
   "metadata": {},
   "outputs": [
    {
     "data": {
      "text/plain": [
       "<matplotlib.image.AxesImage at 0x13dd40920a0>"
      ]
     },
     "execution_count": 158,
     "metadata": {},
     "output_type": "execute_result"
    },
    {
     "data": {
      "image/png": "[encoded data removed]",
      "text/plain": [
       "<Figure size 432x288 with 1 Axes>"
      ]
     },
     "metadata": {
      "needs_background": "light"
     },
     "output_type": "display_data"
    }
   ],
   "source": [
    "im2 = im.filter(ImageFilter.GaussianBlur(2))\n",
    "imshow(im2)"
   ]
  },
  {
   "cell_type": "code",
   "execution_count": 162,
   "id": "85087618",
   "metadata": {},
   "outputs": [],
   "source": [
    "font_ims = []\n",
    "for i in range(0, 15, 1):\n",
    "    font_ims.append(generate_im(\"SURYA TEJ\"))\n",
    "font_ims[0].save(r'D:\\gitpulls\\sfcdl-sales-dm\\data\\dst\\title_1.gif',\n",
    "               save_all=True, append_images=font_ims[1:], optimize=False, duration=400, loop=0)   "
   ]
  },
  {
   "cell_type": "code",
   "execution_count": 165,
   "id": "dad851ed",
   "metadata": {},
   "outputs": [
    {
     "name": "stdout",
     "output_type": "stream",
     "text": [
      "Collecting opencv-python\n",
      "  Downloading opencv_python-4.5.3.56-cp39-cp39-win_amd64.whl (34.9 MB)\n",
      "Requirement already satisfied: numpy>=1.19.3 in d:\\gitpulls\\sfcdl-sales-dm\\venv\\lib\\site-packages (from opencv-python) (1.21.0)\n",
      "Installing collected packages: opencv-python\n",
      "Successfully installed opencv-python-4.5.3.56\n"
     ]
    },
    {
     "name": "stderr",
     "output_type": "stream",
     "text": [
      "WARNING: You are using pip version 21.1.1; however, version 21.1.3 is available.\n",
      "You should consider upgrading via the 'd:\\gitpulls\\sfcdl-sales-dm\\venv\\scripts\\python.exe -m pip install --upgrade pip' command.\n"
     ]
    }
   ],
   "source": [
    "!pip install opencv-python"
   ]
  },
  {
   "cell_type": "code",
   "execution_count": 170,
   "id": "3ce9a10b",
   "metadata": {},
   "outputs": [
    {
     "data": {
      "text/plain": [
       "PIL.Image.Image"
      ]
     },
     "execution_count": 170,
     "metadata": {},
     "output_type": "execute_result"
    }
   ],
   "source": [
    "font_ims[0].__class__"
   ]
  },
  {
   "cell_type": "code",
   "execution_count": 144,
   "id": "db74bf28",
   "metadata": {},
   "outputs": [
    {
     "data": {
      "text/plain": [
       "['Arial.ttf', 'Ariali.ttf', 'Arialbd.ttf', 'Arialbi.ttf', 'Ariblk.ttf']"
      ]
     },
     "execution_count": 144,
     "metadata": {},
     "output_type": "execute_result"
    }
   ],
   "source": [
    "error_fonts[:5]"
   ]
  },
  {
   "cell_type": "code",
   "execution_count": 146,
   "id": "0a37cebf",
   "metadata": {},
   "outputs": [
    {
     "data": {
      "text/plain": [
       "['Candaral.ttf',\n",
       " 'Candarali.ttf',\n",
       " 'Candara.ttf',\n",
       " 'Candarai.ttf',\n",
       " 'Candarab.ttf',\n",
       " 'Candaraz.ttf',\n",
       " 'Gabriola.ttf',\n",
       " 'Inkfree.ttf',\n",
       " 'Nirmala.ttf']"
      ]
     },
     "execution_count": 146,
     "metadata": {},
     "output_type": "execute_result"
    }
   ],
   "source": [
    "good_fonts"
   ]
  },
  {
   "cell_type": "code",
   "execution_count": 179,
   "id": "fc5991de",
   "metadata": {},
   "outputs": [],
   "source": [
    "path = r\"C:\\Users\\DELL\\Downloads\\dameron_font\\dameron.ttf\""
   ]
  },
  {
   "cell_type": "code",
   "execution_count": 180,
   "id": "2f3c0c78",
   "metadata": {},
   "outputs": [],
   "source": [
    "fnt = ImageFont.truetype(path, random.randint(30, 60))"
   ]
  },
  {
   "cell_type": "code",
   "execution_count": 184,
   "id": "331c8730",
   "metadata": {},
   "outputs": [],
   "source": [
    "im = Image.new('RGB', (width, width), color_1) # black color\n",
    "draw = ImageDraw.Draw(im)"
   ]
  },
  {
   "cell_type": "code",
   "execution_count": 185,
   "id": "1f21c698",
   "metadata": {},
   "outputs": [],
   "source": [
    "draw.text((center-100, center), \"SURYA\", font=fnt, fill=color_2)"
   ]
  },
  {
   "cell_type": "code",
   "execution_count": 186,
   "id": "5d76658e",
   "metadata": {},
   "outputs": [
    {
     "data": {
      "image/png": "[encoded data removed]",
      "text/plain": [
       "<PIL.Image.Image image mode=RGB size=300x300 at 0x13DD3E80A30>"
      ]
     },
     "execution_count": 186,
     "metadata": {},
     "output_type": "execute_result"
    }
   ],
   "source": [
    "im"
   ]
  },
  {
   "cell_type": "code",
   "execution_count": null,
   "id": "fd24beae",
   "metadata": {},
   "outputs": [],
   "source": []
  }
 ],
 "metadata": {
  "kernelspec": {
   "display_name": "Python 3 (ipykernel)",
   "language": "python",
   "name": "python3"
  },
  "language_info": {
   "codemirror_mode": {
    "name": "ipython",
    "version": 3
   },
   "file_extension": ".py",
   "mimetype": "text/x-python",
   "name": "python",
   "nbconvert_exporter": "python",
   "pygments_lexer": "ipython3",
   "version": "3.9.5"
  }
 },
 "nbformat": 4,
 "nbformat_minor": 5
}
